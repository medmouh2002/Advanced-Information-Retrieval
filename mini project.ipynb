{
 "cells": [
  {
   "cell_type": "code",
   "execution_count": 12,
   "id": "0cab730e",
   "metadata": {},
   "outputs": [
    {
     "data": {
      "text/plain": [
       "{'doc0': 'ANTHONY BRUTUS CAESAR CLEOPATRA MERCY WORSER',\n",
       " 'doc1': 'ANTHONY BRUTUS CAESAR CALPURNIA',\n",
       " 'doc2': 'MERCY WORSER MERCY',\n",
       " 'doc3': 'BRUTUS CAESAR MERCY WORSER',\n",
       " 'doc4': 'CAESAR MERCY WORSER'}"
      ]
     },
     "execution_count": 12,
     "metadata": {},
     "output_type": "execute_result"
    }
   ],
   "source": [
    " d0 = \"ANTHONY BRUTUS CAESAR CLEOPATRA MERCY WORSER\"\n",
    " d1 = \"ANTHONY BRUTUS CAESAR CALPURNIA\"\n",
    " d2 = \"MERCY WORSER MERCY\"\n",
    " d3 = \"BRUTUS CAESAR MERCY WORSER\"\n",
    " d4 = \"CAESAR MERCY WORSER\"\n",
    " collection = {\"doc0\": d0,\n",
    "         \"doc1\": d1,\n",
    "         \"doc2\": d2,\n",
    "         \"doc3\": d3,\n",
    "         \"doc4\": d4}\n",
    "collection"
   ]
  },
  {
   "cell_type": "code",
   "execution_count": 2,
   "id": "b2538a11",
   "metadata": {},
   "outputs": [],
   "source": [
    "boolean_operators = {'AND', 'OR', 'NOT'}"
   ]
  },
  {
   "cell_type": "code",
   "execution_count": 22,
   "id": "c7d78095",
   "metadata": {},
   "outputs": [],
   "source": [
    "#list of terms : return a list of all terms in collection\n",
    "def get_terms(Documents):\n",
    "        terms=[]\n",
    "        for doc in Documents:\n",
    "            for term in Documents[doc].split(\" \") :\n",
    "                terms.append(term)\n",
    "        return terms\n",
    "\n"
   ]
  },
  {
   "cell_type": "code",
   "execution_count": 23,
   "id": "eee86e11",
   "metadata": {},
   "outputs": [],
   "source": [
    "#list of unique terms : return a list of unique terms in collection (without repetition)\n",
    "def get_unique_terms(terms):\n",
    "    unique_terms = []\n",
    "    for term in terms:\n",
    "        if term not in unique_terms:\n",
    "            unique_terms.append(term)\n",
    "    return unique_terms\n"
   ]
  },
  {
   "cell_type": "code",
   "execution_count": 24,
   "id": "30746554",
   "metadata": {},
   "outputs": [],
   "source": [
    "  #document collection terms : return a dictionary {key=docID , value=list of unique terms in doc}\n",
    "def get_document_collection_terms(Documents):\n",
    "        docs_colllection={}\n",
    "        for doc in Documents:\n",
    "            if doc not in boolean_operators :\n",
    "                docs_colllection[doc]=get_unique_terms(Documents[doc].split())\n",
    "        return docs_colllection"
   ]
  },
  {
   "cell_type": "code",
   "execution_count": 25,
   "id": "76787183",
   "metadata": {},
   "outputs": [],
   "source": [
    "  #display dictionary content\n",
    "def display_dict(dic):\n",
    "        print(\"\\n\")\n",
    "        for i in dic:\n",
    "            print (i , \" : \" ,dic[i])\n",
    "        print(\"\\n\")"
   ]
  },
  {
   "cell_type": "code",
   "execution_count": 26,
   "id": "1678b981",
   "metadata": {},
   "outputs": [],
   "source": [
    "#this function takes the collection of documents in a form of dictionary as an input\n",
    "def term_document_incidence_matrix(collection):\n",
    "        ## list of terms from the data file collection\n",
    "        terms=get_terms(collection)\n",
    "        #list of unique terms\n",
    "        unique_terms=get_unique_terms(terms)\n",
    "        #Document collection terms\n",
    "        docs_terms=get_document_collection_terms(collection)\n",
    "        #TermDocumentIncidenceMatrix\n",
    "        term_docs_matrix={}\n",
    "        for term in unique_terms:\n",
    "            vector=[]\n",
    "            for c in docs_terms:\n",
    "\n",
    "                if term in docs_terms[c]:\n",
    "                    vector.append(1)\n",
    "                else :\n",
    "                    vector.append(0)\n",
    "\n",
    "            term_docs_matrix[term]=vector\n",
    "        return term_docs_matrix"
   ]
  },
  {
   "cell_type": "code",
   "execution_count": 27,
   "id": "53ac04cd",
   "metadata": {},
   "outputs": [],
   "source": [
    "#this fucntion takes a term and a terms-document incidence matrix and returns the incidence vector of the term\n",
    "def term_incidence_vector(term,term_docs_incid_matrix):\n",
    "    try:\n",
    "     return term_docs_incid_matrix[term]\n",
    "    except:\n",
    "     return \"term not found\""
   ]
  },
  {
   "cell_type": "code",
   "execution_count": 28,
   "id": "9f819966",
   "metadata": {},
   "outputs": [
    {
     "name": "stdout",
     "output_type": "stream",
     "text": [
      "Term-Document incidence Matrix\n",
      "\n",
      "\n",
      "ANTHONY  :  [1, 1, 0, 0, 0]\n",
      "BRUTUS  :  [1, 1, 0, 1, 0]\n",
      "CAESAR  :  [1, 1, 0, 1, 1]\n",
      "CLEOPATRA  :  [1, 0, 0, 0, 0]\n",
      "MERCY  :  [1, 0, 1, 1, 1]\n",
      "WORSER  :  [1, 0, 1, 1, 1]\n",
      "CALPURNIA  :  [0, 1, 0, 0, 0]\n",
      "\n",
      "\n"
     ]
    }
   ],
   "source": [
    "#build the term-document incidence matrix\n",
    "term_docs_incid_matrix=term_document_incidence_matrix(collection)\n",
    "print(\"Term-Document incidence Matrix\")\n",
    "#formatted Display\n",
    "display_dict(term_docs_incid_matrix)"
   ]
  },
  {
   "cell_type": "code",
   "execution_count": 29,
   "id": "99df37a2",
   "metadata": {},
   "outputs": [
    {
     "name": "stdout",
     "output_type": "stream",
     "text": [
      "Term-Document incidence Matrix\n",
      "\n",
      "\n",
      "ANTHONY  :  [1, 1, 0, 0, 0]\n",
      "BRUTUS  :  [1, 1, 0, 1, 0]\n",
      "CAESAR  :  [1, 1, 0, 1, 1]\n",
      "CLEOPATRA  :  [1, 0, 0, 0, 0]\n",
      "MERCY  :  [1, 0, 1, 1, 1]\n",
      "WORSER  :  [1, 0, 1, 1, 1]\n",
      "CALPURNIA  :  [0, 1, 0, 0, 0]\n",
      "\n",
      "\n"
     ]
    }
   ],
   "source": [
    "#build the term-document incidence matrix\n",
    "term_docs_incid_matrix=term_document_incidence_matrix(collection)\n",
    "print(\"Term-Document incidence Matrix\")\n",
    "#formatted Display\n",
    "display_dict(term_docs_incid_matrix)"
   ]
  },
  {
   "cell_type": "code",
   "execution_count": 50,
   "id": "437635eb",
   "metadata": {},
   "outputs": [
    {
     "data": {
      "text/plain": [
       "['AND', 'WORSER']"
      ]
     },
     "execution_count": 50,
     "metadata": {},
     "output_type": "execute_result"
    }
   ],
   "source": [
    "def query_filteration(query,collection):\n",
    "    terms = get_terms(collection)\n",
    "    unique_terms = get_unique_terms(terms)\n",
    "    qterms=[]\n",
    "    splitted_query = query.split()\n",
    "    for qterm in splitted_query:\n",
    "        if qterm in unique_terms or qterm in boolean_operators:\n",
    "            qterms.append(qterm)\n",
    "            \n",
    "    return qterms\n",
    "query_filteration(\"mouhaymen AND WORSER\",collection)"
   ]
  },
  {
   "cell_type": "code",
   "execution_count": 61,
   "id": "3a7ad067",
   "metadata": {},
   "outputs": [],
   "source": [
    "def boolean_operator_processing(bool_operator, prevV, nextV):\n",
    "    if bool_operator == \"AND\":\n",
    "        return [a & b for a, b in zip(prevV, nextV)]\n",
    "    elif bool_operator == \"OR\":\n",
    "        return [a or b for a, b in zip(prevV, nextV)]\n",
    "    elif bool_operator == \"NOT\":\n",
    "        return [(not a)*1 for a in prevV]\n"
   ]
  },
  {
   "cell_type": "code",
   "execution_count": 62,
   "id": "4f744df5",
   "metadata": {},
   "outputs": [],
   "source": [
    "v1 = term_incidence_vector(\"WORSER\",term_docs_incid_matrix)\n",
    "v2 = term_incidence_vector(\"CALPURNIA\",term_docs_incid_matrix)\n"
   ]
  },
  {
   "cell_type": "code",
   "execution_count": 63,
   "id": "2004b53e",
   "metadata": {},
   "outputs": [
    {
     "name": "stdout",
     "output_type": "stream",
     "text": [
      "[0, 0, 0, 0, 0]\n"
     ]
    }
   ],
   "source": [
    "print(boolean_operator_processing(\"AND\",v1,v2))"
   ]
  },
  {
   "cell_type": "code",
   "execution_count": 64,
   "id": "d62ac547",
   "metadata": {},
   "outputs": [
    {
     "name": "stdout",
     "output_type": "stream",
     "text": [
      "[1, 1, 1, 1, 1]\n"
     ]
    }
   ],
   "source": [
    "print(boolean_operator_processing(\"OR\",v1,v2))"
   ]
  },
  {
   "cell_type": "code",
   "execution_count": 65,
   "id": "ee972b0b",
   "metadata": {},
   "outputs": [
    {
     "name": "stdout",
     "output_type": "stream",
     "text": [
      "[0, 1, 0, 0, 0]\n"
     ]
    }
   ],
   "source": [
    "print(boolean_operator_processing(\"NOT\",v1,v2))"
   ]
  },
  {
   "cell_type": "code",
   "execution_count": 70,
   "id": "265d5aa6",
   "metadata": {},
   "outputs": [],
   "source": [
    "# Boolean retrieval function\n",
    "# input : Query\n",
    "def boolean_retrieval(query,collection):\n",
    "        #build a terms_documents incidence matrix\n",
    "        term_docs_incid_matrix=term_document_incidence_matrix(collection)\n",
    "        bitwiseop=\"\"\n",
    "        #get the query terms\n",
    "        qterms=query_filteration(query,collection)\n",
    "        result=[]\n",
    "        result_set={}\n",
    "        has_previous_term=False\n",
    "        has_not_operation=False\n",
    "        inc_vec_prev=[]\n",
    "        inc_vec_next=[]\n",
    "        for term in qterms :\n",
    "            if term not in boolean_operators:\n",
    "                if  has_not_operation:\n",
    "                    if has_previous_term:\n",
    "                         inc_vec_next=boolean_operator_processing(\"NOT\",term_docs_incid_matrix[term],inc_vec_next)\n",
    "                    else :\n",
    "                        inc_vec_prev=boolean_operator_processing(\"NOT\",term_docs_incid_matrix[term],inc_vec_next)\n",
    "                        result=inc_vec_prev\n",
    "                    has_not_operation=False\n",
    "\n",
    "                elif  has_previous_term:\n",
    "\n",
    "                    inc_vec_next=term_docs_incid_matrix[term]\n",
    "                else :\n",
    "\n",
    "                    inc_vec_prev=term_docs_incid_matrix[term]\n",
    "                    result= inc_vec_prev\n",
    "                    has_previous_term=True\n",
    "\n",
    "            elif term ==\"NOT\":\n",
    "                 has_not_operation=True\n",
    "\n",
    "            else :\n",
    "                bitwiseop=term\n",
    "\n",
    "            if  len(inc_vec_next)!= 0  :\n",
    "                result = boolean_operator_processing(bitwiseop,inc_vec_prev,inc_vec_next)\n",
    "                inc_vec_prev=result\n",
    "                has_previous_term=True\n",
    "                inc_vec_next= []\n",
    "\n",
    "        for i,doc in zip(result,collection):\n",
    "            result_set[doc]=i\n",
    "        return result_set"
   ]
  },
  {
   "cell_type": "code",
   "execution_count": 71,
   "id": "5455f2c2",
   "metadata": {},
   "outputs": [
    {
     "name": "stdout",
     "output_type": "stream",
     "text": [
      "query2 boolean retrieval \n",
      "  {'doc0': 1, 'doc1': 0, 'doc2': 0, 'doc3': 1, 'doc4': 0}\n"
     ]
    }
   ],
   "source": [
    "query2= \"BRUTUS AND CAESAR AND NOT CALPURNIA\"\n",
    "print(\"query2 boolean retrieval \\n \",boolean_retrieval(query2,collection))"
   ]
  },
  {
   "cell_type": "code",
   "execution_count": null,
   "id": "94f6b43b",
   "metadata": {},
   "outputs": [],
   "source": []
  }
 ],
 "metadata": {
  "kernelspec": {
   "display_name": "Python 3 (ipykernel)",
   "language": "python",
   "name": "python3"
  },
  "language_info": {
   "codemirror_mode": {
    "name": "ipython",
    "version": 3
   },
   "file_extension": ".py",
   "mimetype": "text/x-python",
   "name": "python",
   "nbconvert_exporter": "python",
   "pygments_lexer": "ipython3",
   "version": "3.12.4"
  }
 },
 "nbformat": 4,
 "nbformat_minor": 5
}
